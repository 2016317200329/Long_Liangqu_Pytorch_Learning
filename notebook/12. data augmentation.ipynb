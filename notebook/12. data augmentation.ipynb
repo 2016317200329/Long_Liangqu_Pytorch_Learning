{
 "cells": [
  {
   "cell_type": "markdown",
   "source": [
    "# 0.\n",
    "https://www.bilibili.com/video/BV18g4119737?p=74&vd_source=70200f7d09862fd682e5f89b22c89125\n",
    "# 1. When have limited data\n",
    "当数据有限时，有3件事可以做：\n",
    "- Small network capacity\n",
    "- Regularization\n",
    "- Data argumentation\n",
    "# 2. 对于图片（之前也讲过）\n",
    "- Flip 反转\n",
    "- Rotate\n",
    "- Random Move Crop\n",
    "- GAN\n",
    "## 2.1 Flip\n",
    "1. `RandomHorizontalFlip()`和`RandomVerticalFlip()`都带着“random\", 意味着这个操作**可能**做也可能不做"
   ],
   "metadata": {
    "collapsed": false
   }
  },
  {
   "cell_type": "code",
   "execution_count": null,
   "outputs": [],
   "source": [
    "import torch"
   ],
   "metadata": {
    "collapsed": false
   }
  },
  {
   "cell_type": "code",
   "execution_count": null,
   "outputs": [],
   "source": [
    "train_loader = torch.utils.data.DataLoader(\n",
    "    datasets.MNIST('../data',train=True,download=True,\n",
    "                    transform=transforms.Compose([\n",
    "                                transforms.RandomHorizontalFlip(),\n",
    "                                transforms.RandomVerticalFlip(),\n",
    "                                transforms.ToTensor(),\n",
    "                                # transforms.Normalize((0.1307,)(0.3081,)\n",
    "                    ])),\n",
    "    batch_size=batch_size,shuffle=True)"
   ],
   "metadata": {
    "collapsed": false
   }
  }
 ],
 "metadata": {
  "kernelspec": {
   "display_name": "Python 3",
   "language": "python",
   "name": "python3"
  },
  "language_info": {
   "codemirror_mode": {
    "name": "ipython",
    "version": 2
   },
   "file_extension": ".py",
   "mimetype": "text/x-python",
   "name": "python",
   "nbconvert_exporter": "python",
   "pygments_lexer": "ipython2",
   "version": "2.7.6"
  }
 },
 "nbformat": 4,
 "nbformat_minor": 0
}
