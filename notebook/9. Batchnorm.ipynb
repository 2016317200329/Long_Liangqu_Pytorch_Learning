{
 "cells": [
  {
   "cell_type": "markdown",
   "source": [
    "# 0.\n",
    "1. https://www.bilibili.com/video/BV18g4119737?p=67&spm_id_from=pageDriver&vd_source=70200f7d09862fd682e5f89b22c89125\n",
    "# 1. Batchnorm 公式\n",
    "1. ![](https://gitee.com/wyjyoga/my-pic-go/raw/master/img/202401052311061.png)\n",
    "    - 这个公式说明了batchnorm是：\n",
    "        - 让input x,从 $(x-\\mu)/\\sigma$变成 $N(0,1)$，\n",
    "        - affine再让data变成 $N(\\gamma,\\beta)$上的分布\n",
    "2. ![](https://gitee.com/wyjyoga/my-pic-go/raw/master/img/202401052325007.png)\n",
    "# 2. running mean\n",
    "1. 当只运行一次时，running_mean和running_var和根据数据算出来的u和sigma是一样的\n",
    "    - 这里可以看到因为时uniform抽样，算出来的mean肯定是0.5,var=1，与running_mean和running_var一致"
   ],
   "metadata": {
    "collapsed": false
   }
  },
  {
   "cell_type": "code",
   "execution_count": 4,
   "outputs": [
    {
     "data": {
      "text/plain": "torch.Size([100, 16, 784])"
     },
     "execution_count": 4,
     "metadata": {},
     "output_type": "execute_result"
    }
   ],
   "source": [
    "import torch\n",
    "import torch.nn as nn\n",
    "\n",
    "x=torch.rand(100,16,784)  # 这里是按照U(0,1)抽样的\n",
    "x.shape\n",
    "# 注意16是channel维度"
   ],
   "metadata": {
    "collapsed": false
   }
  },
  {
   "cell_type": "code",
   "execution_count": 5,
   "outputs": [
    {
     "data": {
      "text/plain": "tensor([0.0499, 0.0500, 0.0502, 0.0499, 0.0500, 0.0500, 0.0500, 0.0500, 0.0500,\n        0.0501, 0.0499, 0.0500, 0.0501, 0.0500, 0.0499, 0.0500])"
     },
     "execution_count": 5,
     "metadata": {},
     "output_type": "execute_result"
    }
   ],
   "source": [
    "layer=nn.BatchNorm1d(16)\n",
    "out=layer(x)\n",
    "layer.running_mean"
   ],
   "metadata": {
    "collapsed": false
   }
  },
  {
   "cell_type": "code",
   "execution_count": 6,
   "outputs": [
    {
     "data": {
      "text/plain": "tensor([0.9084, 0.9083, 0.9083, 0.9083, 0.9083, 0.9083, 0.9083, 0.9083, 0.9083,\n        0.9083, 0.9084, 0.9083, 0.9083, 0.9083, 0.9083, 0.9084])"
     },
     "execution_count": 6,
     "metadata": {},
     "output_type": "execute_result"
    }
   ],
   "source": [
    "layer.running_var"
   ],
   "metadata": {
    "collapsed": false
   }
  },
  {
   "cell_type": "code",
   "execution_count": null,
   "outputs": [],
   "source": [],
   "metadata": {
    "collapsed": false
   }
  }
 ],
 "metadata": {
  "kernelspec": {
   "display_name": "Python 3",
   "language": "python",
   "name": "python3"
  },
  "language_info": {
   "codemirror_mode": {
    "name": "ipython",
    "version": 2
   },
   "file_extension": ".py",
   "mimetype": "text/x-python",
   "name": "python",
   "nbconvert_exporter": "python",
   "pygments_lexer": "ipython2",
   "version": "2.7.6"
  }
 },
 "nbformat": 4,
 "nbformat_minor": 0
}
