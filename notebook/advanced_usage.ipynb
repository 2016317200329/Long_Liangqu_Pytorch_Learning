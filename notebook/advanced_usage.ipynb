{
 "cells": [
  {
   "cell_type": "code",
   "execution_count": 1,
   "outputs": [],
   "source": [
    "import torch"
   ],
   "metadata": {
    "collapsed": false
   }
  },
  {
   "cell_type": "markdown",
   "source": [
    "# 1. where\n",
    "1. 不规则的,有条件的赋值,用`for`也可以但是并行化较差,where可以用gpu"
   ],
   "metadata": {
    "collapsed": false
   }
  },
  {
   "cell_type": "code",
   "execution_count": 4,
   "outputs": [
    {
     "data": {
      "text/plain": "tensor([[-0.1705, -1.7568],\n        [-2.1810,  1.6128]])"
     },
     "execution_count": 4,
     "metadata": {},
     "output_type": "execute_result"
    }
   ],
   "source": [
    "cond = torch.randn(2,2)\n",
    "cond"
   ],
   "metadata": {
    "collapsed": false
   }
  },
  {
   "cell_type": "code",
   "execution_count": 6,
   "outputs": [
    {
     "data": {
      "text/plain": "tensor([[0., 0.],\n        [0., 0.]])"
     },
     "execution_count": 6,
     "metadata": {},
     "output_type": "execute_result"
    }
   ],
   "source": [
    "a = torch.zeros(2,2)\n",
    "a"
   ],
   "metadata": {
    "collapsed": false
   }
  },
  {
   "cell_type": "code",
   "execution_count": 7,
   "outputs": [
    {
     "data": {
      "text/plain": "tensor([[1., 1.],\n        [1., 1.]])"
     },
     "execution_count": 7,
     "metadata": {},
     "output_type": "execute_result"
    }
   ],
   "source": [
    "b = torch.ones(2,2)\n",
    "b"
   ],
   "metadata": {
    "collapsed": false
   }
  },
  {
   "cell_type": "code",
   "execution_count": 8,
   "outputs": [
    {
     "data": {
      "text/plain": "tensor([[1., 1.],\n        [1., 0.]])"
     },
     "execution_count": 8,
     "metadata": {},
     "output_type": "execute_result"
    }
   ],
   "source": [
    "torch.where(cond>0.5,a,b)"
   ],
   "metadata": {
    "collapsed": false
   }
  },
  {
   "cell_type": "markdown",
   "source": [
    "# 2. gather\n",
    "1. 有一个category：[dog,cat,whale],每一张图片会判断照片属于哪个类别,因此每一个照片有一个概率对应了这3个类别的概率,\n",
    "2. 以4张照片为例,用`argmax`可以取出概率最大照片的下标如[0,1,1,2]\n",
    "3. `gather`可以进一步把[0,1,1,2]返回成[dog,cat,cat,whale]\n",
    "    - 实际上是一个**查表操作**\n",
    "    - 完成了从计算下标到实际下标的映射"
   ],
   "metadata": {
    "collapsed": false
   }
  },
  {
   "cell_type": "code",
   "execution_count": 10,
   "outputs": [
    {
     "data": {
      "text/plain": "tensor([[-1.7024, -1.6264, -1.0976, -1.7972, -0.5500,  0.7170,  0.8832,  0.2162,\n          0.7950,  0.0188],\n        [ 1.0856, -0.4972, -0.8687,  0.9777,  0.3078, -0.4866, -0.9426,  0.4876,\n          0.4875,  1.4660],\n        [-0.9555,  1.2976,  1.2459, -0.6340,  0.0740, -0.9348, -1.8054, -0.3189,\n          0.6212,  0.3967],\n        [-1.4199, -0.9082, -1.5998, -1.0420, -0.4997,  0.0201, -1.1939, -0.8466,\n          1.1811, -1.0453]])"
     },
     "execution_count": 10,
     "metadata": {},
     "output_type": "execute_result"
    }
   ],
   "source": [
    "prob=torch.randn(4,10)\n",
    "prob"
   ],
   "metadata": {
    "collapsed": false
   }
  },
  {
   "cell_type": "code",
   "execution_count": 18,
   "outputs": [
    {
     "data": {
      "text/plain": "(tensor([[6, 8, 5],\n         [9, 0, 3],\n         [1, 2, 8],\n         [8, 5, 4]]),\n torch.Size([4, 3]))"
     },
     "execution_count": 18,
     "metadata": {},
     "output_type": "execute_result"
    }
   ],
   "source": [
    "idx = prob.topk(dim=1,k=3)[1]\n",
    "idx,idx.shape"
   ],
   "metadata": {
    "collapsed": false
   }
  },
  {
   "cell_type": "code",
   "execution_count": 16,
   "outputs": [
    {
     "data": {
      "text/plain": "tensor([100, 101, 102, 103, 104, 105, 106, 107, 108, 109])"
     },
     "execution_count": 16,
     "metadata": {},
     "output_type": "execute_result"
    }
   ],
   "source": [
    "# 图片的实际编号,不是（0,10）这种范围\n",
    "label = torch.arange(10)+100\n",
    "label"
   ],
   "metadata": {
    "collapsed": false
   }
  },
  {
   "cell_type": "markdown",
   "source": [
    "4. 使用的时候,先扩张label的大小,然后要确定好dim,"
   ],
   "metadata": {
    "collapsed": false
   }
  },
  {
   "cell_type": "code",
   "execution_count": 17,
   "outputs": [
    {
     "data": {
      "text/plain": "tensor([[106, 108, 105],\n        [109, 100, 103],\n        [101, 102, 108],\n        [108, 105, 104]])"
     },
     "execution_count": 17,
     "metadata": {},
     "output_type": "execute_result"
    }
   ],
   "source": [
    "torch.gather(label.expand(4,10), dim=1, index = idx.long())"
   ],
   "metadata": {
    "collapsed": false
   }
  },
  {
   "cell_type": "code",
   "execution_count": null,
   "outputs": [],
   "source": [],
   "metadata": {
    "collapsed": false
   }
  }
 ],
 "metadata": {
  "kernelspec": {
   "display_name": "Python 3",
   "language": "python",
   "name": "python3"
  },
  "language_info": {
   "codemirror_mode": {
    "name": "ipython",
    "version": 2
   },
   "file_extension": ".py",
   "mimetype": "text/x-python",
   "name": "python",
   "nbconvert_exporter": "python",
   "pygments_lexer": "ipython2",
   "version": "2.7.6"
  }
 },
 "nbformat": 4,
 "nbformat_minor": 0
}
