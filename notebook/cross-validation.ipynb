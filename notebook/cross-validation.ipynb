{
 "cells": [
  {
   "cell_type": "markdown",
   "source": [
    "# 0. k-fold 交叉验证\n",
    "1. https://www.bilibili.com/video/BV18g4119737?p=56&vd_source=70200f7d09862fd682e5f89b22c89125\n",
    "\n",
    "# 1. K-fold\n",
    "1. 意思是，对于test data+vali data的一共60k的数据，分成K份，每次选1份做vali data，其余是training data\n",
    "2. 这种K-fold的提升其实不能算很大"
   ],
   "metadata": {
    "collapsed": false
   }
  },
  {
   "cell_type": "code",
   "execution_count": null,
   "outputs": [],
   "source": [],
   "metadata": {
    "collapsed": false
   }
  }
 ],
 "metadata": {
  "kernelspec": {
   "display_name": "Python 3",
   "language": "python",
   "name": "python3"
  },
  "language_info": {
   "codemirror_mode": {
    "name": "ipython",
    "version": 2
   },
   "file_extension": ".py",
   "mimetype": "text/x-python",
   "name": "python",
   "nbconvert_exporter": "python",
   "pygments_lexer": "ipython2",
   "version": "2.7.6"
  }
 },
 "nbformat": 4,
 "nbformat_minor": 0
}
