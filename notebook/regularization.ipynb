{
 "cells": [
  {
   "cell_type": "markdown",
   "source": [
    "# 0. 正则化\n",
    "1. https://www.bilibili.com/video/BV18g4119737?p=57&vd_source=70200f7d09862fd682e5f89b22c89125\n",
    "2. 通过正则化减少overfitting的概率"
   ],
   "metadata": {
    "collapsed": false
   }
  },
  {
   "cell_type": "markdown",
   "source": [
    "# 1. 几种减少overfitting的方法\n",
    "1. more data: 代价最大\n",
    "2. constraint model complexity\n",
    "    - shallow：不要对太复杂的问题设置太复杂的结构\n",
    "    - **regularization**：\n",
    "3. dropout\n",
    "4. data augmentation\n",
    "5. early stopping：小trick\n",
    "\n",
    "# 2. regularization\n",
    "1. 减小loss公式后面的正则化项\n",
    "![](https://gitee.com/wyjyoga/my-pic-go/raw/master/img/20221208212624.png)\n",
    "2. 当**低次数**的系数β足够大时-->模型表现好，同时**高次数**的系数β在正则化项的参与下不会很大-->不会过拟合\n",
    "3. pytorch中叫做`weight decay`\n",
    "4. ![](https://gitee.com/wyjyoga/my-pic-go/raw/master/img/20221208212918.png)\n",
    "5. ![](https://gitee.com/wyjyoga/my-pic-go/raw/master/img/20221208212951.png)\n",
    "\n",
    "## 2.1 pytorch 实现"
   ],
   "metadata": {
    "collapsed": false
   }
  },
  {
   "cell_type": "code",
   "execution_count": 1,
   "outputs": [
    {
     "ename": "NameError",
     "evalue": "name 'optim' is not defined",
     "output_type": "error",
     "traceback": [
      "\u001B[1;31m---------------------------------------------------------------------------\u001B[0m",
      "\u001B[1;31mNameError\u001B[0m                                 Traceback (most recent call last)",
      "\u001B[1;32m<ipython-input-1-43716dc1ae4e>\u001B[0m in \u001B[0;36m<module>\u001B[1;34m\u001B[0m\n\u001B[0;32m      1\u001B[0m \u001B[1;31m# weight_decay\u001B[0m\u001B[1;33m\u001B[0m\u001B[1;33m\u001B[0m\u001B[1;33m\u001B[0m\u001B[0m\n\u001B[1;32m----> 2\u001B[1;33m \u001B[0moptimizer\u001B[0m \u001B[1;33m=\u001B[0m \u001B[0moptim\u001B[0m\u001B[1;33m.\u001B[0m\u001B[0mSGD\u001B[0m\u001B[1;33m(\u001B[0m\u001B[0mnet\u001B[0m\u001B[1;33m.\u001B[0m\u001B[0mparameters\u001B[0m\u001B[1;33m(\u001B[0m\u001B[1;33m)\u001B[0m\u001B[1;33m,\u001B[0m \u001B[0mlr\u001B[0m\u001B[1;33m=\u001B[0m\u001B[0mlearning_rate\u001B[0m\u001B[1;33m,\u001B[0m \u001B[0mweight_decay\u001B[0m \u001B[1;33m=\u001B[0m \u001B[1;36m0.01\u001B[0m\u001B[1;33m)\u001B[0m\u001B[1;33m\u001B[0m\u001B[1;33m\u001B[0m\u001B[0m\n\u001B[0m",
      "\u001B[1;31mNameError\u001B[0m: name 'optim' is not defined"
     ]
    }
   ],
   "source": [
    "# weight_decay\n",
    "optimizer = optim.SGD(net.parameters(), lr=learning_rate, weight_decay = 0.01)"
   ],
   "metadata": {
    "collapsed": false
   }
  },
  {
   "cell_type": "markdown",
   "source": [
    "1. 设置了这个参数后，如果training表现下降，说明并没有“过拟合”。但是如果training没变化，test有所提升，说明确实发生了过拟合\n",
    "2. 下面是手写loss函数的正则化项"
   ],
   "metadata": {
    "collapsed": false
   }
  },
  {
   "cell_type": "code",
   "execution_count": null,
   "outputs": [],
   "source": [
    "regularization_loss = 0\n",
    "for param in model.parameters():\n",
    "    regularization_loss += torch.sum(torch.abs(param))\n",
    "loss = classify_loss + regularization_loss"
   ],
   "metadata": {
    "collapsed": false
   }
  }
 ],
 "metadata": {
  "kernelspec": {
   "display_name": "Python 3",
   "language": "python",
   "name": "python3"
  },
  "language_info": {
   "codemirror_mode": {
    "name": "ipython",
    "version": 2
   },
   "file_extension": ".py",
   "mimetype": "text/x-python",
   "name": "python",
   "nbconvert_exporter": "python",
   "pygments_lexer": "ipython2",
   "version": "2.7.6"
  }
 },
 "nbformat": 4,
 "nbformat_minor": 0
}
