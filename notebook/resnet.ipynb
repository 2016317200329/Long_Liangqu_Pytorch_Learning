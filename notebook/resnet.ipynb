{
 "cells": [
  {
   "cell_type": "markdown",
   "source": [
    "# 0. Background\n",
    "1. 一个common sense是，虽然网络变深会利于学习，但是gradient在深度比较深的情况下会接近0\n",
    "2. 一个22+8层的网络我们希望比22层更好，通过添加short的方式，如果train好了那8层固然好，train不好可以直接走short cut这个路径，不影响前面22层的结果\n",
    "![](https://gitee.com/wyjyoga/my-pic-go/raw/master/img/202302272145886.png)\n",
    "3. ![](https://gitee.com/wyjyoga/my-pic-go/raw/master/img/202302272148345.png)\n",
    "\n",
    "# 1. residual block\n",
    "1. 一种设计是2个3×的conv+一个short。很显然，**残差块要求2个卷积层的输出与输入形状一样**，才能让x直接加到F(x)上\n",
    "    - 但是这种设计参数量太大：假设input_channel/ feature map = 256 = output_channel，那么一个conv其实是需要256×256×(3×3)=600K个参数\n",
    "2. 所以另一种设计是使用1×1大小的conv改变通道数，（先减小再放大）\n",
    "    - 比如下面代码实现的，只是对x也要改变通道的操作\n",
    "\n",
    "# 2. Why res？\n",
    "1. 一种解释是，本身NN学习的是mapping是从x到H(x),现在有了res结构，它把H(x)拆解 = F(x)+x，因此F(x) = H(x) - x，学的是这样一个残差\n",
    "2. 下图实现的是: ![](https://gitee.com/wyjyoga/my-pic-go/raw/master/img/202302272205010.png)"
   ],
   "metadata": {
    "collapsed": false
   }
  },
  {
   "cell_type": "code",
   "execution_count": null,
   "outputs": [],
   "source": [
    "from torch import nn\n",
    "import torch.nn.functional as F\n",
    "class ResBlk(nn.Module):\n",
    "    def __init__(self,ch_in,ch_out):\n",
    "        super(ResBlk, self).__init__()\n",
    "        self.conv1=nn.Conv2d(ch_in,ch_out,kernel_size=3,stride=1,padding=1)\n",
    "        self.bn1=nn.BatchNorm2d(ch_out)\n",
    "        self.conv2=nn.Conv2d(ch_out,ch_out,kernel_size=3,stride=1,padding=1)\n",
    "        self.bn2=nn.BatchNorm2d(ch_out)\n",
    "\n",
    "        # extra表示的就是res层，它的input是传进来的ch_in的大小，它的输出是ch_out的大小\n",
    "        self.extra=nn.Sequential()\n",
    "        # 当in=64 out=256，为了使大小一致可以进行element-wise的加法，它使用1×1大小的kernel来变化feature map的数量，但是大小不会变化\n",
    "        if ch_out !=ch_in:  # [b,ch_in,h,w]=[b,ch_out,h,w]\n",
    "            self.extra= nn.Sequential(\n",
    "            nn.Conv2d(ch_in,ch_out,kernel_size=1,stride=1),\n",
    "            nn.BatchNorm2d(ch_out))\n",
    "\n",
    "    def forward(self,x):\n",
    "        out = F.relu(self.bn1(self.conv1(x)))\n",
    "        out = self.bn2(self.conv2(out))\n",
    "        out = self.extra(x)+out"
   ],
   "metadata": {
    "collapsed": false
   }
  },
  {
   "cell_type": "markdown",
   "source": [
    "# 3. resnet与densenet\n",
    "1. resnet其实是做了加法，densenet则是做了channel-wise的concat的操作\n",
    "2. ![](https://gitee.com/wyjyoga/my-pic-go/raw/master/img/202302272216835.png)"
   ],
   "metadata": {
    "collapsed": false
   }
  },
  {
   "cell_type": "markdown",
   "source": [
    "# 4. 关于resnet的stride的补充: 两种shortcut路径\n",
    "1. 2种shortcut路径，取决于残差路径是否需要改变feature map的**数量**和**尺寸**"
   ],
   "metadata": {
    "collapsed": false
   }
  },
  {
   "cell_type": "code",
   "execution_count": 1,
   "outputs": [
    {
     "ename": "SyntaxError",
     "evalue": "invalid syntax (2013540888.py, line 1)",
     "output_type": "error",
     "traceback": [
      "\u001B[1;36m  File \u001B[1;32m\"C:\\Users\\Administrator\\AppData\\Local\\Temp\\ipykernel_17864\\2013540888.py\"\u001B[1;36m, line \u001B[1;32m1\u001B[0m\n\u001B[1;33m    if stride != 1 or in_channel != out_channel # 这个才是正确的写法\u001B[0m\n\u001B[1;37m                                                ^\u001B[0m\n\u001B[1;31mSyntaxError\u001B[0m\u001B[1;31m:\u001B[0m invalid syntax\n"
     ]
    }
   ],
   "source": [
    "if stride != 1 or in_channel != out_channel # 这个才是正确的写法"
   ],
   "metadata": {
    "collapsed": false
   }
  },
  {
   "cell_type": "markdown",
   "source": [
    "1. `in_channel != out_channel` 深度上通道不一样，很明显使用`1x1` 的卷积改变通道。\n",
    "2. 代码中使用的默认 `pad = 1`， `stripe = 1`， 此时使用`1×1`时输入输出尺寸不变。当`stride ！= 1` 时，会导致res需要链接的2个feature map尺寸不同，一般这种情况**很少**，最多是通道上的不同。\n"
   ],
   "metadata": {
    "collapsed": false
   }
  },
  {
   "cell_type": "code",
   "execution_count": 2,
   "outputs": [
    {
     "ename": "NameError",
     "evalue": "name 'nn' is not defined",
     "output_type": "error",
     "traceback": [
      "\u001B[1;31m---------------------------------------------------------------------------\u001B[0m",
      "\u001B[1;31mNameError\u001B[0m                                 Traceback (most recent call last)",
      "\u001B[1;32m~\\AppData\\Local\\Temp\\ipykernel_17864\\1665904855.py\u001B[0m in \u001B[0;36m<module>\u001B[1;34m\u001B[0m\n\u001B[1;32m----> 1\u001B[1;33m \u001B[1;32mclass\u001B[0m \u001B[0mResBlk\u001B[0m\u001B[1;33m(\u001B[0m\u001B[0mnn\u001B[0m\u001B[1;33m.\u001B[0m\u001B[0mModule\u001B[0m\u001B[1;33m)\u001B[0m\u001B[1;33m:\u001B[0m\u001B[1;33m\u001B[0m\u001B[1;33m\u001B[0m\u001B[0m\n\u001B[0m\u001B[0;32m      2\u001B[0m     \"\"\"\n\u001B[0;32m      3\u001B[0m     \u001B[0mresnet\u001B[0m \u001B[0mblock\u001B[0m\u001B[1;33m\u001B[0m\u001B[1;33m\u001B[0m\u001B[0m\n\u001B[0;32m      4\u001B[0m     \"\"\"\n\u001B[0;32m      5\u001B[0m \u001B[1;33m\u001B[0m\u001B[0m\n",
      "\u001B[1;31mNameError\u001B[0m: name 'nn' is not defined"
     ]
    }
   ],
   "source": [
    "class ResBlk(nn.Module):\n",
    "    \"\"\"\n",
    "    resnet block\n",
    "    \"\"\"\n",
    "\n",
    "    def __init__(self,ch_in,ch_out,stride=1) -> None:\n",
    "        super().__init__()\n",
    "\n",
    "        self.conv1 = nn.Conv2d(ch_in,ch_out,kernel_size=3,stride=stride,padding=1)\n",
    "        self.bn1 = nn.BatchNorm2d(ch_out)\n",
    "        self.conv2 = nn.Conv2d(ch_out,ch_out,kernel_size=3,stride=1,padding=1)\n",
    "        self.bn2 = nn.BatchNorm2d(ch_out)\n",
    "\n",
    "        # 用大小=1的kernel\n",
    "        self.extra = nn.Sequential()\n",
    "        if ch_out != ch_in:\n",
    "            self.extra = nn.Sequential(\n",
    "                # wyj: 注意这里stride和外面的stride保持一致，目的是让short cut上和外面达到同样的“长度减半”的效果\n",
    "                nn.Conv2d(ch_in,ch_out,kernel_size=1,stride=stride),\n",
    "                nn.BatchNorm2d(ch_out)\n",
    "            )\n",
    "\n",
    "    def forward(self,x):\n",
    "        print(f\"before res, data size: {x.shape}\")\n",
    "\n",
    "        out = F.relu(self.bn1(self.conv1(x)))\n",
    "        out = F.relu(self.bn2(self.conv2(out)))\n",
    "        # Short cut: element-wise add\n",
    "        # x:[b,ch_in,h,w], out:[b,ch_out,h,w]\n",
    "\n",
    "        res_value = self.extra(x)\n",
    "        # print(f\"after res, the res_value size: {res_value.shape}\")\n",
    "        out = res_value+out\n",
    "        print(f\"after res, out size: {out.shape}\")\n",
    "\n",
    "        return out\n"
   ],
   "metadata": {
    "collapsed": false
   }
  },
  {
   "cell_type": "code",
   "execution_count": null,
   "outputs": [],
   "source": [],
   "metadata": {
    "collapsed": false
   }
  }
 ],
 "metadata": {
  "kernelspec": {
   "display_name": "Python 3",
   "language": "python",
   "name": "python3"
  },
  "language_info": {
   "codemirror_mode": {
    "name": "ipython",
    "version": 2
   },
   "file_extension": ".py",
   "mimetype": "text/x-python",
   "name": "python",
   "nbconvert_exporter": "python",
   "pygments_lexer": "ipython2",
   "version": "2.7.6"
  }
 },
 "nbformat": 4,
 "nbformat_minor": 0
}
