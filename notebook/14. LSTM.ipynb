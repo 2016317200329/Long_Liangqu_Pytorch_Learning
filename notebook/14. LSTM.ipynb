{
 "cells": [
  {
   "cell_type": "markdown",
   "source": [
    "https://www.bilibili.com/video/BV18g4119737?p=91&vd_source=70200f7d09862fd682e5f89b22c89125"
   ],
   "metadata": {
    "collapsed": false
   }
  },
  {
   "cell_type": "markdown",
   "source": [
    "# 1.\n",
    "1. LSTM的出现很好的改善了**梯度弥散**的问题和**记忆长度** 的问题\n",
    "2. Recall: 传统的RNN只能记得住某单词附近的几个单词；\n",
    "3. Recall: RNN的链式结构is repeating itself.\n",
    "    - $w_{hh}\\@h_ih + W_{ih}$"
   ],
   "metadata": {
    "collapsed": false
   }
  },
  {
   "cell_type": "code",
   "execution_count": null,
   "metadata": {
    "collapsed": true
   },
   "outputs": [],
   "source": []
  }
 ],
 "metadata": {
  "kernelspec": {
   "display_name": "Python 3",
   "language": "python",
   "name": "python3"
  },
  "language_info": {
   "codemirror_mode": {
    "name": "ipython",
    "version": 2
   },
   "file_extension": ".py",
   "mimetype": "text/x-python",
   "name": "python",
   "nbconvert_exporter": "python",
   "pygments_lexer": "ipython2",
   "version": "2.7.6"
  }
 },
 "nbformat": 4,
 "nbformat_minor": 0
}
