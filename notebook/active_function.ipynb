{
 "cells": [
  {
   "cell_type": "markdown",
   "source": [
    "# 0. 常用的激活函数以及GPU运算\n",
    "1. https://www.bilibili.com/video/BV18g4119737?p=51&vd_source=70200f7d09862fd682e5f89b22c89125\n",
    "2. 只记录几个不常见的\n",
    "\n",
    "# 1. 激活函数：Relu的变种\n",
    "1. leaky relu：避免了当x<=0的时候梯度一直是0\n",
    "![pic](https://gitee.com/wyjyoga/my-pic-go/raw/master/img/20221208151528.png)\n",
    "2. SELU: 比Relu更光滑,公式前半段是relu\n",
    "![pic](https://gitee.com/wyjyoga/my-pic-go/raw/master/img/20221208151703.png)\n",
    "3. softplus：在x=0处做均匀处理\n",
    "![pic]((https://gitee.com/wyjyoga/my-pic-go/raw/master/img/20221208151814.png))\n"
   ],
   "metadata": {
    "collapsed": false
   }
  },
  {
   "cell_type": "markdown",
   "source": [
    "# 2. GPU accelerated\n",
    "1."
   ],
   "metadata": {
    "collapsed": false
   }
  },
  {
   "cell_type": "code",
   "execution_count": null,
   "outputs": [],
   "source": [],
   "metadata": {
    "collapsed": false
   }
  }
 ],
 "metadata": {
  "kernelspec": {
   "display_name": "Python 3",
   "language": "python",
   "name": "python3"
  },
  "language_info": {
   "codemirror_mode": {
    "name": "ipython",
    "version": 2
   },
   "file_extension": ".py",
   "mimetype": "text/x-python",
   "name": "python",
   "nbconvert_exporter": "python",
   "pygments_lexer": "ipython2",
   "version": "2.7.6"
  }
 },
 "nbformat": 4,
 "nbformat_minor": 0
}
