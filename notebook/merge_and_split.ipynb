{
 "cells": [
  {
   "cell_type": "markdown",
   "metadata": {
    "collapsed": true,
    "pycharm": {
     "name": "#%% md\n"
    }
   },
   "source": [
    "# 0. intro\n",
    "1. https://www.bilibili.com/video/BV18g4119737?p=27&spm_id_from=pageDriver&vd_source=70200f7d09862fd682e5f89b22c89125\n",
    "2. 合并与拆分\n",
    "    - cat\n",
    "    - stack\n",
    "    - split\n",
    "    - chunk"
   ]
  },
  {
   "cell_type": "code",
   "execution_count": null,
   "outputs": [],
   "source": [
    "import  torch"
   ],
   "metadata": {
    "collapsed": false,
    "pycharm": {
     "name": "#%%\n"
    }
   }
  },
  {
   "cell_type": "markdown",
   "source": [
    "# 1. cat\n",
    "1. cat == concat\n",
    "2. 合并两个老师a和b统计的成绩，a老师统计了4个班，b老师统计了5个班\n",
    "    - data structure:[class1-4,students,scores],[class5-9,students,scores]\n",
    "    - **因此必须`dim=0`，在第一个维度上合并**\n",
    "    - 如果是`dim=1`就是合并一个班的两拨学生的所有成绩\n",
    "3. 因此需要concat的那个维度下的shape可以不同，其他的必须相同"
   ],
   "metadata": {
    "collapsed": false,
    "pycharm": {
     "name": "#%% md\n"
    }
   }
  },
  {
   "cell_type": "code",
   "execution_count": 5,
   "outputs": [
    {
     "name": "stdout",
     "output_type": "stream",
     "text": [
      "torch.Size([9, 32, 8])\n"
     ]
    }
   ],
   "source": [
    "a = torch.rand(4,32,8)\n",
    "b = torch.rand(5,32,8)\n",
    "all_score = torch.cat([a,b],dim=0)\n",
    "print(all_score.shape)"
   ],
   "metadata": {
    "collapsed": false,
    "pycharm": {
     "name": "#%%\n"
    }
   }
  },
  {
   "cell_type": "markdown",
   "source": [
    "# 2. stack\n",
    "1. stack和cat很像，但是它会创建一个新的维度\n",
    "    - 在`dim=2`处stack，平行的堆叠两个维度。相当于把两个老师改卷的成绩堆叠起来，保存了两个老师各自的记录"
   ],
   "metadata": {
    "collapsed": false,
    "pycharm": {
     "name": "#%% md\n"
    }
   }
  },
  {
   "cell_type": "code",
   "execution_count": 6,
   "outputs": [
    {
     "data": {
      "text/plain": "torch.Size([4, 3, 32, 32])"
     },
     "execution_count": 6,
     "metadata": {},
     "output_type": "execute_result"
    }
   ],
   "source": [
    "a1 = torch.rand(4,3,16,32)\n",
    "a2 = torch.rand(4,3,16,32)\n",
    "torch.cat([a1,a2],dim=2).shape"
   ],
   "metadata": {
    "collapsed": false,
    "pycharm": {
     "name": "#%%\n"
    }
   }
  },
  {
   "cell_type": "code",
   "execution_count": 7,
   "outputs": [
    {
     "data": {
      "text/plain": "torch.Size([4, 3, 2, 16, 32])"
     },
     "execution_count": 7,
     "metadata": {},
     "output_type": "execute_result"
    }
   ],
   "source": [
    "torch.stack([a1,a2],dim=2).shape"
   ],
   "metadata": {
    "collapsed": false,
    "pycharm": {
     "name": "#%%\n"
    }
   }
  },
  {
   "cell_type": "markdown",
   "source": [
    "2. 比如这里就是统计了a和b两个班的课程成绩，保留“两个班”这个信息"
   ],
   "metadata": {
    "collapsed": false,
    "pycharm": {
     "name": "#%% md\n"
    }
   }
  },
  {
   "cell_type": "code",
   "execution_count": 8,
   "outputs": [
    {
     "data": {
      "text/plain": "torch.Size([2, 32, 8])"
     },
     "execution_count": 8,
     "metadata": {},
     "output_type": "execute_result"
    }
   ],
   "source": [
    "a = torch.rand(32,8)\n",
    "b = torch.rand(32,8)\n",
    "all_score = torch.stack([a,b],dim=0)\n",
    "all_score.shape"
   ],
   "metadata": {
    "collapsed": false,
    "pycharm": {
     "name": "#%%\n"
    }
   }
  },
  {
   "cell_type": "markdown",
   "source": [
    "3. cat和stack对比\n",
    "    - cat：在`dim=d`之外的shape必须相同，`dim=d`这个维度上shape可以不同\n",
    "    - stack：在`dim=d`之外的shape必须相同，`dim=d`这个维度上shape也必须相同\n",
    "\n",
    "# 3. split\n",
    "1. 根据**长度**拆分,在`dim=0`上，拆成`[1,1]`这样两组结果"
   ],
   "metadata": {
    "collapsed": false,
    "pycharm": {
     "name": "#%% md\n"
    }
   }
  },
  {
   "cell_type": "code",
   "execution_count": 10,
   "outputs": [
    {
     "name": "stdout",
     "output_type": "stream",
     "text": [
      "c shape: torch.Size([2, 32, 8])\n",
      "After split, aa shape:torch.Size([1, 32, 8]),bb shape:torch.Size([1, 32, 8])\n"
     ]
    }
   ],
   "source": [
    "a = torch.rand(32,8)\n",
    "b = torch.rand(32,8)\n",
    "c = torch.stack([a,b],dim=0)\n",
    "print(\"c shape:\",c.shape)\n",
    "aa,bb = c.split([1,1],dim=0)\n",
    "print(f\"After split, aa shape:{aa.shape},bb shape:{bb.shape}\")"
   ],
   "metadata": {
    "collapsed": false,
    "pycharm": {
     "name": "#%%\n"
    }
   }
  },
  {
   "cell_type": "markdown",
   "source": [
    "2. 如果想把3个班，前2个班一起拆出来，最后1个班单独拆出来,参数里可以省略，只写前面的`2`"
   ],
   "metadata": {
    "collapsed": false,
    "pycharm": {
     "name": "#%% md\n"
    }
   }
  },
  {
   "cell_type": "code",
   "execution_count": 11,
   "outputs": [
    {
     "name": "stdout",
     "output_type": "stream",
     "text": [
      "c shape: torch.Size([3, 32, 8])\n",
      "After split, aa shape:torch.Size([2, 32, 8]),bb shape:torch.Size([1, 32, 8])\n"
     ]
    }
   ],
   "source": [
    "c = torch.rand(3,32,8)\n",
    "aa,bb = c.split(2,dim=0)\n",
    "print(\"c shape:\",c.shape)\n",
    "print(f\"After split, aa shape:{aa.shape},bb shape:{bb.shape}\")\n"
   ],
   "metadata": {
    "collapsed": false,
    "pycharm": {
     "name": "#%%\n"
    }
   }
  },
  {
   "cell_type": "markdown",
   "source": [
    "# 4. chunk\n",
    "1. 按**数量**拆分，`2`表示我想拆成2块，优先看能不能整除。"
   ],
   "metadata": {
    "collapsed": false,
    "pycharm": {
     "name": "#%% md\n"
    }
   }
  },
  {
   "cell_type": "code",
   "execution_count": 14,
   "outputs": [
    {
     "name": "stdout",
     "output_type": "stream",
     "text": [
      "c shape: torch.Size([2, 32, 8])\n",
      "After chunk, aa shape:torch.Size([1, 32, 8]),bb shape:torch.Size([1, 32, 8])\n"
     ]
    }
   ],
   "source": [
    "c = torch.rand(2,32,8)\n",
    "aa,bb = c.chunk(2,dim=0)\n",
    "print(\"c shape:\",c.shape)\n",
    "print(f\"After chunk, aa shape:{aa.shape},bb shape:{bb.shape}\")"
   ],
   "metadata": {
    "collapsed": false,
    "pycharm": {
     "name": "#%%\n"
    }
   }
  },
  {
   "cell_type": "code",
   "execution_count": null,
   "outputs": [],
   "source": [],
   "metadata": {
    "collapsed": false,
    "pycharm": {
     "name": "#%%\n"
    }
   }
  }
 ],
 "metadata": {
  "kernelspec": {
   "display_name": "Python 3",
   "language": "python",
   "name": "python3"
  },
  "language_info": {
   "codemirror_mode": {
    "name": "ipython",
    "version": 2
   },
   "file_extension": ".py",
   "mimetype": "text/x-python",
   "name": "python",
   "nbconvert_exporter": "python",
   "pygments_lexer": "ipython2",
   "version": "2.7.6"
  }
 },
 "nbformat": 4,
 "nbformat_minor": 0
}