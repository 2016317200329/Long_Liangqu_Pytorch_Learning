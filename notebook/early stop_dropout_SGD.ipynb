{
 "cells": [
  {
   "cell_type": "markdown",
   "source": [
    "# 0. 早停，dropout，随机梯度下降\n",
    "1. https://www.bilibili.com/video/BV18g4119737?p=59&vd_source=70200f7d09862fd682e5f89b22c89125\n",
    "\n",
    "# 1. Early Stopping\n",
    "1. 在regularization那里也讲过这个问题，train多了之后模型反而会变差\n",
    "![](https://gitee.com/wyjyoga/my-pic-go/raw/master/img/20221215205126.png)\n",
    "    - 从何时stop？从validation的表现开始下降的时候stop\n",
    "    - 但是也不一定，如果是主流任务，比如classification，loss一般下降了就不会再升，如果是其他任务则需要train很多次来决定到底需不需要早停\n",
    "\n",
    "# 2. Dropout\n",
    "## 2.1 Dropout效果\n",
    "1.*Learning less is to learn more*\n",
    "2. Dropout可以达到减少学习的参数的效果：output为0就不需要更新\n",
    "![](https://gitee.com/wyjyoga/my-pic-go/raw/master/img/20221215205958.png)\n",
    "3. **Dropout也是减小overfitting的手段**\n",
    "\n",
    "## 2.2 pytorch的dropout实现\n",
    "1. pytorch中实现简单：\n",
    "```\n",
    "torch.nn.Dropout(0.5),\n",
    "torch.nn.ReLU(),\n",
    "torch.nn.Linear(200,10),\n",
    "```\n",
    "2. 要注意两个函数的`p`的区别：\n",
    "```\n",
    "# drop概率\n",
    "torch.nn.Dropout(p=dropout_prob)\n",
    "# 不drop的概率\n",
    "tf.nn.dropout(keep_prob)\n",
    "```\n",
    "3. train的时候又dropout但是test的时候就无了，所以必须使用`model.train()`和`model.eval()予以区别`\n",
    "![](https://gitee.com/wyjyoga/my-pic-go/raw/master/img/20221215210629.png)"
   ],
   "metadata": {
    "collapsed": false
   }
  },
  {
   "cell_type": "markdown",
   "source": [
    "# 3. SGD\n",
    "1. “随机”并不是真的随机，是有一个分布的\n",
    "2. 深度学习使用的训练集一般都比较大（几十万～几十亿）。而BGD算法每走一步（更新模型参数），为了计算original-loss上的梯度，就需要**遍历整个数据集**，这显然是不现实的。而SGD算法，每次**随机选择一个mini-batch**去计算梯度。\n",
    "3. 不可避免的，SGD在避免“奇点”，提高效率，减少GPU内存消耗的同时，也会带来噪声"
   ],
   "metadata": {
    "collapsed": false
   }
  },
  {
   "cell_type": "code",
   "execution_count": null,
   "outputs": [],
   "source": [],
   "metadata": {
    "collapsed": false
   }
  }
 ],
 "metadata": {
  "kernelspec": {
   "display_name": "Python 3",
   "language": "python",
   "name": "python3"
  },
  "language_info": {
   "codemirror_mode": {
    "name": "ipython",
    "version": 2
   },
   "file_extension": ".py",
   "mimetype": "text/x-python",
   "name": "python",
   "nbconvert_exporter": "python",
   "pygments_lexer": "ipython2",
   "version": "2.7.6"
  }
 },
 "nbformat": 4,
 "nbformat_minor": 0
}
