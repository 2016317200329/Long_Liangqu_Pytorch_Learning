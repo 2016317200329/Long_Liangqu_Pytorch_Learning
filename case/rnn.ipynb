{
 "cells": [
  {
   "cell_type": "markdown",
   "metadata": {
    "collapsed": true,
    "pycharm": {
     "name": "#%% md\n"
    }
   },
   "source": [
    "# 0.\n",
    "1. https://www.bilibili.com/video/BV18g4119737?p=87&spm_id_from=pageDriver&vd_source=70200f7d09862fd682e5f89b22c89125\n",
    "\n",
    "# 1. rnn layer\n",
    "## 1.1 构建一个rnn layer\n",
    "1. 两个参数：\n",
    "    - `input`: input seq的shape。这里是一个长度为100的word vec\n",
    "    - `h_0`: mem 大小,默认初始化为0。这里是一个长度为10的memory\n",
    "    -\n",
    "2. `rnn._parameters.keys()`：查看网络层名称,这里有`l0`的意思是,它也可以像cnn一样有多层,但是不会很长,因为它主要在时间上进行展开\n"
   ]
  },
  {
   "cell_type": "code",
   "execution_count": 6,
   "outputs": [
    {
     "name": "stdout",
     "output_type": "stream",
     "text": [
      "odict_keys(['weight_ih_l0', 'weight_hh_l0', 'bias_ih_l0', 'bias_hh_l0'])\n"
     ]
    }
   ],
   "source": [
    "import torch.nn as nn\n",
    "rnn = nn.RNN(100,10)\n",
    "# 查看网络层名称\n",
    "print(rnn._parameters.keys())"
   ],
   "metadata": {
    "collapsed": false,
    "pycharm": {
     "name": "#%%\n"
    }
   }
  },
  {
   "cell_type": "markdown",
   "source": [
    "3. 展示weight\n",
    "    - `weight_ih_l0`连接的是input层和hidden layer,当input也就是$x_t$的shape是`(100,)`时,由$x_t@w_{ih}.T$可得,$w_ih$的shape是`[10, 100]`\n",
    "    - `weight_hh_l0`链接的是$h_0$和hidden,为了方便计算一般$h_0$的大小会设置成和hidden len的大小。所以$w_hh$的shape是`[10,10]`\n",
    "4. 展示bias\n",
    "    - bias直接是hidden len=10"
   ],
   "metadata": {
    "collapsed": false
   }
  },
  {
   "cell_type": "code",
   "execution_count": 9,
   "outputs": [
    {
     "name": "stdout",
     "output_type": "stream",
     "text": [
      "torch.Size([10, 10]) torch.Size([10, 100])\n",
      "torch.Size([10]) torch.Size([10])\n"
     ]
    }
   ],
   "source": [
    "print(rnn.weight_hh_l0.shape,rnn.weight_ih_l0.shape)\n",
    "print(rnn.bias_hh_l0.shape,rnn.bias_ih_l0.shape)"
   ],
   "metadata": {
    "collapsed": false,
    "pycharm": {
     "name": "#%%\n"
    }
   }
  },
  {
   "cell_type": "markdown",
   "source": [
    "## 1.2 构建一个rnn layer\n",
    "1. init的参数是"
   ],
   "metadata": {
    "collapsed": false
   }
  },
  {
   "cell_type": "code",
   "execution_count": null,
   "outputs": [],
   "source": [],
   "metadata": {
    "collapsed": false,
    "pycharm": {
     "name": "#%%\n"
    }
   }
  }
 ],
 "metadata": {
  "kernelspec": {
   "name": "conda-env-pythorch-py",
   "language": "python",
   "display_name": "Python [conda env:pythorch] *"
  },
  "language_info": {
   "codemirror_mode": {
    "name": "ipython",
    "version": 2
   },
   "file_extension": ".py",
   "mimetype": "text/x-python",
   "name": "python",
   "nbconvert_exporter": "python",
   "pygments_lexer": "ipython2",
   "version": "2.7.6"
  }
 },
 "nbformat": 4,
 "nbformat_minor": 0
}