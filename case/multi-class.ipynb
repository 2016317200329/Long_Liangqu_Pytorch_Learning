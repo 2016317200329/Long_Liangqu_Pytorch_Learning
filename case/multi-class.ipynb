{
 "cells": [
  {
   "cell_type": "markdown",
   "source": [
    "# 0.\n",
    "1. 多分类实战：https://www.bilibili.com/video/BV18g4119737?p=50&vd_source=70200f7d09862fd682e5f89b22c89125\n",
    "2. 用的基本操作，不是nn.linear"
   ],
   "metadata": {
    "collapsed": false
   }
  },
  {
   "cell_type": "code",
   "execution_count": 19,
   "outputs": [],
   "source": [
    "import torch\n",
    "import torch.nn.functional as F\n",
    "import torch.nn as nn\n",
    "from torch.utils.data import DataLoader\n",
    "from torchvision import datasets, transforms\n",
    "\n",
    "batch_size = 200\n",
    "learning_rate = 0.01\n",
    "epochs = 10"
   ],
   "metadata": {
    "collapsed": false
   }
  },
  {
   "cell_type": "markdown",
   "source": [
    "# 1. 读数据"
   ],
   "metadata": {
    "collapsed": false
   }
  },
  {
   "cell_type": "code",
   "execution_count": 20,
   "outputs": [],
   "source": [
    "def load_data(batch_size):\n",
    "    train_loader = torch.utils.data.DataLoader(\n",
    "        datasets.MNIST('../data', train=True, download=True,\n",
    "                       transform=transforms.Compose([\n",
    "                           transforms.ToTensor(),\n",
    "                           transforms.Normalize((0.1307,), (0.3081,))\n",
    "                       ])),\n",
    "        batch_size=batch_size, shuffle=True)\n",
    "    test_loader = torch.utils.data.DataLoader(\n",
    "        datasets.MNIST('../data', train=False, transform=transforms.Compose([\n",
    "            transforms.ToTensor(),\n",
    "            transforms.Normalize((0.1307,), (0.3081,))\n",
    "        ])),\n",
    "        batch_size=batch_size, shuffle=True)\n",
    "\n",
    "    return train_loader, test_loader\n"
   ],
   "metadata": {
    "collapsed": false
   }
  },
  {
   "cell_type": "markdown",
   "source": [
    "1. 注意**初始化**非常重要，这里如果不初始化，loss会在几个epoch之后就停止更新了\n",
    "2. 老师说尤其是你在设计一个新方法的时候，这个初始化很重要"
   ],
   "metadata": {
    "collapsed": false
   }
  },
  {
   "cell_type": "markdown",
   "source": [
    "# 2. The net"
   ],
   "metadata": {
    "collapsed": false
   }
  },
  {
   "cell_type": "code",
   "execution_count": 29,
   "outputs": [
    {
     "data": {
      "text/plain": "tensor([[-0.1379,  0.0907, -0.2397,  ..., -0.1635,  0.0773, -0.0396],\n        [-0.0032, -0.1304,  0.0804,  ...,  0.0829, -0.0414, -0.2695],\n        [ 0.1056, -0.1060,  0.1014,  ..., -0.0688, -0.1250, -0.2325],\n        ...,\n        [-0.0144,  0.1861, -0.0685,  ...,  0.2042, -0.1325, -0.1233],\n        [ 0.0839,  0.0826, -0.0567,  ...,  0.1165,  0.2900, -0.1748],\n        [ 0.0684, -0.0050, -0.1290,  ...,  0.0289, -0.0427, -0.1003]],\n       requires_grad=True)"
     },
     "execution_count": 29,
     "metadata": {},
     "output_type": "execute_result"
    }
   ],
   "source": [
    "w1, b1 = torch.randn(200, 784, requires_grad=True), \\\n",
    "         torch.zeros(200, requires_grad=True)\n",
    "w2, b2 = torch.randn(200, 200, requires_grad=True), \\\n",
    "         torch.zeros(200, requires_grad=True)\n",
    "w3, b3 = torch.randn(10, 200, requires_grad=True), \\\n",
    "         torch.zeros(10, requires_grad=True)\n",
    "\n",
    "torch.nn.init.kaiming_normal_(w1)\n",
    "torch.nn.init.kaiming_normal_(w2)\n",
    "torch.nn.init.kaiming_normal_(w3)"
   ],
   "metadata": {
    "collapsed": false
   }
  },
  {
   "cell_type": "markdown",
   "source": [
    "2. 一般没有经过relu或者softmax的东西叫做“logits”"
   ],
   "metadata": {
    "collapsed": false
   }
  },
  {
   "cell_type": "code",
   "execution_count": 30,
   "outputs": [],
   "source": [
    "def forward(x):\n",
    "    x=x@w1.t()+b1\n",
    "    x=F.relu(x)\n",
    "    x=x@w2.t()+b2\n",
    "    x=F.relu(x)\n",
    "    x=x@w3.t()+b3\n",
    "    x = F.relu(x)\n",
    "    return x"
   ],
   "metadata": {
    "collapsed": false
   }
  },
  {
   "cell_type": "code",
   "execution_count": 31,
   "outputs": [],
   "source": [
    "\n",
    "optimizer = torch.optim.SGD([w1,b1,w2,b2,w3,b3],lr=learning_rate)\n",
    "\n",
    "criterion = nn.CrossEntropyLoss()"
   ],
   "metadata": {
    "collapsed": false
   }
  },
  {
   "cell_type": "markdown",
   "source": [
    "# 3. Training\n"
   ],
   "metadata": {
    "collapsed": false
   }
  },
  {
   "cell_type": "code",
   "execution_count": 32,
   "outputs": [
    {
     "name": "stdout",
     "output_type": "stream",
     "text": [
      "Train Epoch: 0 [0/60000 (0%)]\tLoss: 2.580108\n",
      "Train Epoch: 0 [20000/60000 (33%)]\tLoss: 0.976870\n",
      "Train Epoch: 0 [40000/60000 (67%)]\tLoss: 0.476144\n",
      "\n",
      "Test set: Average loss: 0.0018, Accuracy: 8947/10000 (89%)\n",
      "\n",
      "Train Epoch: 1 [0/60000 (0%)]\tLoss: 0.360305\n",
      "Train Epoch: 1 [20000/60000 (33%)]\tLoss: 0.360304\n",
      "Train Epoch: 1 [40000/60000 (67%)]\tLoss: 0.227623\n",
      "\n",
      "Test set: Average loss: 0.0014, Accuracy: 9171/10000 (92%)\n",
      "\n",
      "Train Epoch: 2 [0/60000 (0%)]\tLoss: 0.315166\n",
      "Train Epoch: 2 [20000/60000 (33%)]\tLoss: 0.394620\n",
      "Train Epoch: 2 [40000/60000 (67%)]\tLoss: 0.247673\n",
      "\n",
      "Test set: Average loss: 0.0012, Accuracy: 9289/10000 (93%)\n",
      "\n",
      "Train Epoch: 3 [0/60000 (0%)]\tLoss: 0.224591\n",
      "Train Epoch: 3 [20000/60000 (33%)]\tLoss: 0.172958\n",
      "Train Epoch: 3 [40000/60000 (67%)]\tLoss: 0.290215\n",
      "\n",
      "Test set: Average loss: 0.0011, Accuracy: 9364/10000 (94%)\n",
      "\n",
      "Train Epoch: 4 [0/60000 (0%)]\tLoss: 0.202740\n",
      "Train Epoch: 4 [20000/60000 (33%)]\tLoss: 0.154841\n",
      "Train Epoch: 4 [40000/60000 (67%)]\tLoss: 0.200760\n",
      "\n",
      "Test set: Average loss: 0.0010, Accuracy: 9399/10000 (94%)\n",
      "\n",
      "Train Epoch: 5 [0/60000 (0%)]\tLoss: 0.200931\n",
      "Train Epoch: 5 [20000/60000 (33%)]\tLoss: 0.205916\n",
      "Train Epoch: 5 [40000/60000 (67%)]\tLoss: 0.123854\n",
      "\n",
      "Test set: Average loss: 0.0009, Accuracy: 9453/10000 (95%)\n",
      "\n",
      "Train Epoch: 6 [0/60000 (0%)]\tLoss: 0.111659\n",
      "Train Epoch: 6 [20000/60000 (33%)]\tLoss: 0.205456\n",
      "Train Epoch: 6 [40000/60000 (67%)]\tLoss: 0.209317\n",
      "\n",
      "Test set: Average loss: 0.0009, Accuracy: 9473/10000 (95%)\n",
      "\n",
      "Train Epoch: 7 [0/60000 (0%)]\tLoss: 0.132446\n",
      "Train Epoch: 7 [20000/60000 (33%)]\tLoss: 0.188925\n",
      "Train Epoch: 7 [40000/60000 (67%)]\tLoss: 0.178928\n",
      "\n",
      "Test set: Average loss: 0.0008, Accuracy: 9511/10000 (95%)\n",
      "\n",
      "Train Epoch: 8 [0/60000 (0%)]\tLoss: 0.177116\n",
      "Train Epoch: 8 [20000/60000 (33%)]\tLoss: 0.133594\n",
      "Train Epoch: 8 [40000/60000 (67%)]\tLoss: 0.113330\n",
      "\n",
      "Test set: Average loss: 0.0008, Accuracy: 9532/10000 (95%)\n",
      "\n",
      "Train Epoch: 9 [0/60000 (0%)]\tLoss: 0.097097\n",
      "Train Epoch: 9 [20000/60000 (33%)]\tLoss: 0.141961\n",
      "Train Epoch: 9 [40000/60000 (67%)]\tLoss: 0.123284\n",
      "\n",
      "Test set: Average loss: 0.0008, Accuracy: 9559/10000 (96%)\n",
      "\n"
     ]
    }
   ],
   "source": [
    "train_loader, test_loader = load_data(batch_size)\n",
    "for epoch in range(epochs):\n",
    "    for batch_idx, (data, target) in enumerate(train_loader):\n",
    "        data = data.view(-1,28*28)\n",
    "\n",
    "        logits = forward(data)\n",
    "        loss = criterion(logits, target)\n",
    "\n",
    "        optimizer.zero_grad()\n",
    "        loss.backward()\n",
    "        # print(w1.grad.norm(), w2.grad.noem())\n",
    "        optimizer.step()\n",
    "        if batch_idx % 100 == 0:\n",
    "            print('Train Epoch: {} [{}/{} ({:.0f}%)]\\tLoss: {:.6f}'.format(epoch, batch_idx * len(data), len(train_loader.dataset),100. * batch_idx / len(train_loader), loss.item()))\n",
    "\n",
    "    test_loss = 0\n",
    "    correct = 0\n",
    "    for data, target in test_loader:\n",
    "        data = data.view(-1, 28 * 28)\n",
    "        logits = forward(data)\n",
    "        test_loss += criterion(logits, target).item()\n",
    "\n",
    "        pred = logits.data.max(1)[1]\n",
    "        correct += pred.eq(target.data).sum()\n",
    "    test_loss /= len(test_loader.dataset)\n",
    "    print('\\nTest set: Average loss: {:.4f}, Accuracy: {}/{} ({:.0f}%)\\n'.format(test_loss, correct, len(test_loader.dataset), 100. * correct / len(test_loader.dataset)))"
   ],
   "metadata": {
    "collapsed": false
   }
  },
  {
   "cell_type": "markdown",
   "source": [
    "# 4. Testing (代码见上)\n",
    "1. 不能一直training下去，必须时不时的在test（valid）数据集上进行测试\n",
    "2. 但是test会消耗时间，\n",
    "    - 不能train完一个batch就做一个test，而且一个test也不会只测试一个batch的数据\n",
    "    - 每次epoch做一次test也可以选择"
   ],
   "metadata": {
    "collapsed": false
   }
  }
 ],
 "metadata": {
  "kernelspec": {
   "name": "conda-env-py39-py",
   "language": "python",
   "display_name": "Python [conda env:py39]"
  },
  "language_info": {
   "codemirror_mode": {
    "name": "ipython",
    "version": 2
   },
   "file_extension": ".py",
   "mimetype": "text/x-python",
   "name": "python",
   "nbconvert_exporter": "python",
   "pygments_lexer": "ipython2",
   "version": "2.7.6"
  }
 },
 "nbformat": 4,
 "nbformat_minor": 0
}
